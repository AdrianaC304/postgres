{
 "cells": [
  {
   "cell_type": "code",
   "execution_count": null,
   "metadata": {},
   "outputs": [],
   "source": [
    "#pip install faker\n"
   ]
  },
  {
   "cell_type": "code",
   "execution_count": null,
   "metadata": {},
   "outputs": [],
   "source": [
    "import pandas as pd\n",
    "from faker import Faker\n",
    "import random\n",
    "from datetime import datetime, timedelta"
   ]
  },
  {
   "cell_type": "code",
   "execution_count": null,
   "metadata": {},
   "outputs": [],
   "source": [
    "# Configuración de Faker\n",
    "fake = Faker('es_ES')\n",
    "\n",
    "# Configuración del generador de números aleatorios\n",
    "random.seed(42)\n",
    "\n",
    "# Crear una lista para almacenar los datos\n",
    "data = []\n",
    "# Generar 1000 registros\n",
    "for _ in range(1000):\n",
    "    dni = random.randint(10000000, 99999999)  # Generar DNI de 8 dígitos\n",
    "    nombre = fake.first_name()\n",
    "    apellido = fake.last_name()\n",
    "    edad = random.randint(70, 90)\n",
    "    fecha_nacimiento = fake.date_of_birth(minimum_age=edad)\n",
    "    id_solicitud = random.randint(1, 1000)\n",
    "    usuario_solicitante = fake.boolean()\n",
    "\n",
    "    data.append([dni, nombre, apellido, edad, fecha_nacimiento, id_solicitud, usuario_solicitante])\n",
    "\n",
    "# Crear un DataFrame con los datos\n",
    "df = pd.DataFrame(data, columns=['dni', 'nombre', 'apellido', 'edad', 'fecha_de_nacimiento', 'id_solicitud', 'usuario_solicitante'])\n",
    "\n",
    "\n",
    "# Guardar el DataFrame en un archivo CSV\n",
    "csv=df.to_csv('dataset.csv', index=False)\n",
    "\n",
    "df"
   ]
  }
 ],
 "metadata": {
  "language_info": {
   "name": "python"
  }
 },
 "nbformat": 4,
 "nbformat_minor": 2
}
